{
  "nbformat": 4,
  "nbformat_minor": 0,
  "metadata": {
    "colab": {
      "name": "Copia de Clase 1 - Curso Python.ipynb",
      "provenance": [],
      "collapsed_sections": [],
      "include_colab_link": true
    },
    "kernelspec": {
      "display_name": "Python 3",
      "name": "python3"
    }
  },
  "cells": [
    {
      "cell_type": "markdown",
      "metadata": {
        "id": "view-in-github",
        "colab_type": "text"
      },
      "source": [
        "<a href=\"https://colab.research.google.com/github/johanchristhofer/Googlecolab/blob/main/Copia_de_Clase_1_Curso_Python.ipynb\" target=\"_parent\"><img src=\"https://colab.research.google.com/assets/colab-badge.svg\" alt=\"Open In Colab\"/></a>"
      ]
    },
    {
      "cell_type": "markdown",
      "metadata": {
        "id": "4FLV1yxDh9Rh"
      },
      "source": [
        "# Bienvenidos al Curso de Python!\n",
        "Hola, somos un grupo de ramas estudiantiles del ITBA que organizó un curso de introducción a Python abierto y\n",
        " gratuito.\n",
        "\n",
        "\\\n",
        "<img width=\"300\" height=\"150\" src=\"https://i.ibb.co/b52mZQG/ieee-cs.png\">\n",
        "\n",
        "\\\n",
        "\\\n",
        "El contenido de este curso está orientado para aquellos que no tienen experiencia programando en Python, y tiene como objetivo principal aprender lo suficiente para automatizar tareas comunes, manipular archivos y hojas de datos de manera eficiente, y representar información gráficamente de manera sencilla. Todas estas tareas pueden ser realizadas usando programación sin necesitar convertirse en un experto del tema.\n",
        "\n",
        "\\\n",
        "El curso consiste en 4 clases e incluye la realización de un proyecto práctico. Los temas y conceptos a cubrir son los siguientes:\n",
        "\\\n",
        "\\\n",
        "**Clase 1 :**\n",
        "*     Introducción a la programación en Python\n",
        "*     Variables\n",
        "*     Operadores\n",
        "*     Control de flujo (if, while, for)\n",
        "*     Funciones \n",
        "\n",
        "**Clase 2 :**\n",
        "*     Tipos de datos (int, float, string, boolean)\n",
        "*     Estructuras de datos (List, Dictionary, Set, Tuple)\n",
        "*     Operaciones con tipos de datos\n",
        "*     Operaciones con estructuras de datos\n",
        "\n",
        "**Clase 3 :**\n",
        "*     Introducción a librerías\n",
        "*     Lectura y escritura de archivos formato Excel y CSV\n",
        "*     Manipulación de datos con Pandas\n",
        "*     Manipulación de archivos de información no estructurada\n",
        "\n",
        "**Clase 4 :**\n",
        "*     Introducción a matplotlib\n",
        "*     Visualización de datos\n",
        "*     Personalización de los gráficos\n",
        "*     Casos de aplicación\n",
        "\n",
        "**Proyecto final :**\n",
        "*     Se presentarán varias temáticas entre las cuales podrán elegir la alternativa que más les interese.\n",
        "\n",
        "\n",
        "Las clases serán enviadas por mail semanalmente y estarán compuestas de videos y textos explicativos como también desafíos para resolver. Tendrán una semana para leer, ver los videos y practicar y el fin de semana entre clase y clase habrá un Livestream donde podrán sacarse las dudas que tengan. \n",
        "\n",
        "¡No dejen pasar la oportunidad de resolver los desafíos! Son una gran oportunidad para comprender realmente lo que acaban de ver y practicar, algunos son fáciles y otros difíciles así que no se desanimen si tarda en llegar la idea para resolverlos, ya que esa es la idea, desafiarlos!\n",
        "\n",
        "La ejercitación integradora incluye muchos más ejercicios al final de la clase, en este caso no es crucial terminarlos todos, pero sí les recomendamos hacer los que puedan y de acuerdo al tiempo del que dispongan ya que creemos que la puesta en práctica de los conocimientos es la mejor manera de aprender a programar.\n",
        "\n",
        "\\\n",
        "Para obtener un certificado de finalización del curso se debe completar exitosamente el proyecto final. En caso de que el proyecto entregado no cumpla los requisitos mínimos se podrá volver a entregar una nueva versión corregida.\n",
        "\n",
        "Además del proyecto, las primeras 3 clases cuentan con un ejercicio cuya entrega es requisito para obtener la certificación. Estos ejercicios son de corrección automática y sin límites de intentos. La corrección se realizará mediante [nuestro nuevo foro](https://ieeeitba.web.app/python).\n",
        "\n",
        "\\\n",
        "**Nota 1:** Las consultas, por más elementales que puedan ser, podrán ser realizadas en [nuestro foro](https://ieeeitba.web.app/python), también contamos con un [sub-reddit](https://www.reddit.com/r/CursoDePythonITBA/) donde pueden ver las preguntas realizadas en la edición anterior del curso y hacer nuevas preguntas si desean. Allí los distintos ayudantes del curso responderemos sus consultas.\n",
        "\n",
        "\\\n",
        "\n",
        "**Nota 2:** Los Livestreams serán los días sábados de 18 a 20 hs hora argentina, allí se responderan las dudas y problemáticas más usuales o concurridas. El Livestream aparecerá disponible los días y horarios correspondientes en [nuestro canal de Youtube](https://www.youtube.com/channel/UCpWHvOSiPtDIwIw8Tb_9g6A).\n",
        "\n",
        "\\\n",
        "\n",
        "**Nota 3:** ¡Para poder guardar los ejercicios que resuelvan les recomendamos guardar una copia del documento en su google Drive!\n",
        "\n",
        "<img width=\"250\" height=\"230\" src=\"https://i.ibb.co/vDbnBcc/copia.png\">\n",
        "\n",
        "\\\n",
        "\n",
        "**Nota 4:** Para reproducir los videos que se encuentran en las clases, deberán ejecutar las celdas en las que se encuentran los videos y luego reproducirlos. Para ejecutar una celda, tienen que clickear sobre el botón superior izquierdo del bloque en que se encuentra el código.\n",
        "Cada video tratará los temas explicados en la clase. Asimismo estos se complementan con la información escrita del curso.\n",
        "\n",
        "\\\n",
        "¡Esperamos que les sirva!\n",
        "\n",
        "El material es de libre distribución bajo la licencia [Creative Commons](https://creativecommons.org) CC-BY-NC-SA.\n"
      ]
    },
    {
      "cell_type": "markdown",
      "metadata": {
        "id": "qxUQO9QfKTNF"
      },
      "source": [
        ""
      ]
    },
    {
      "cell_type": "code",
      "metadata": {
        "colab": {
          "base_uri": "https://localhost:8080/",
          "height": 271
        },
        "id": "lgtZ7MjeeonC",
        "outputId": "698d308c-c29c-4e1b-8a8c-97f687d0a654"
      },
      "source": [
        "# Para reproducir el video, pulsa el botón reproducir que se encuentra a la \n",
        "# izquierda de este texto\n",
        "# Link a Youtube: https://www.youtube.com/watch?v=byqslaCTpi0&list=PL0YqVCFDPJTnJYWRxmGJsj_xJA-FfdySC&index=1&ab_channel=IEEEITBA\n",
        "\n",
        "from IPython.display import YouTubeVideo\n",
        "YouTubeVideo('byqslaCTpi0', width=800, height=250)       "
      ],
      "execution_count": null,
      "outputs": [
        {
          "output_type": "execute_result",
          "data": {
            "text/html": [
              "\n",
              "        <iframe\n",
              "            width=\"800\"\n",
              "            height=\"250\"\n",
              "            src=\"https://www.youtube.com/embed/byqslaCTpi0\"\n",
              "            frameborder=\"0\"\n",
              "            allowfullscreen\n",
              "        ></iframe>\n",
              "        "
            ],
            "text/plain": [
              "<IPython.lib.display.YouTubeVideo at 0x7f91a4918ac8>"
            ],
            "image/jpeg": "[encoded data removed]"
          },
          "metadata": {
            "tags": []
          },
          "execution_count": 1
        }
      ]
    },
    {
      "cell_type": "markdown",
      "metadata": {
        "id": "zUpAx4mvVgz6"
      },
      "source": [
        "# Clase 1\n",
        "\n",
        "## Introducción a la programación\n",
        "\n",
        "La programación es el proceso que se utiliza para diseñar e implementar un programa de computadora, valiéndose de algún lenguaje que permita comunicar una serie de acciones que se requiere que la computadora realice. Podemos pensar que es una caja negra que recibe alguna información, la cual es llamada \"input\" (entrada), realiza alguna acción, y devuelve información, la cual es llamada \"output\" (salida).\n",
        "\n",
        "![Black Box](https://raw.githubusercontent.com/IEEESBITBA/Curso-Python/master/_assets/BlackBox.png)\n",
        "\n",
        "## Lenguajes de programación\n",
        "Un lenguaje de programación es un [lenguaje formal](https://es.wikipedia.org/wiki/Lenguaje_formal) que proporciona una serie de instrucciones, las cuales permiten a un programador escribir secuencias de órdenes para controlar el comportamiento físico y lógico de una computadora, con el objetivo de que produzca diversas acciones deseadas por el programador (¡y los usuarios!).\n",
        "\n",
        "Algunos de los lenguajes mas populares en los últimos tiempos (lejos de ser los únicos) son Python, Java, C++, JavaScript, PHP, etc.\n",
        "\n",
        "<img src=\"https://i.imgur.com/12T9u0f.jpg\" height=\"300\" alt = \"Collage de lenguajes de programación populares\" title=\"Hay varios otros lenguajes, como Go, Go!, Gosu etc. \">\n",
        "\n",
        "## ¿Por qué Python?\n",
        "Elegimos Python porque es uno de los lenguajes de programación con reglas más simples e intuitivas que existen; esto explica la creciente popularidad que ha tenido en los ultimos tiempos.\n",
        "\n",
        "A pesar de su simpleza, es muy utilizado tanto en la industria para servidores y servicios web, así como también en el área academica para redes neuronales, deep learning, simulación, etc.\n",
        "\n",
        "La comunidad de Python es una de las más grandes. Por lo tanto cualquier duda que tengan, a partir de ahora, Google es su amigo: pueden buscar la duda que tengan y seguramente alguien ya haya tenido ese problema. Una de los sitios web más conocidos para este fin es [StackOverflow](https://stackoverflow.com/)\n",
        "\n",
        "\n"
      ]
    },
    {
      "cell_type": "code",
      "metadata": {
        "colab": {
          "base_uri": "https://localhost:8080/",
          "height": 470
        },
        "id": "ZRugjD7JfPIY",
        "outputId": "20cb593f-766f-403e-91c3-c5598af76f98"
      },
      "source": [
        "# Link a Youtube: https://www.youtube.com/watch?v=BK08jdq1l6M&list=PL0YqVCFDPJTnJYWRxmGJsj_xJA-FfdySC&index=2&ab_channel=IEEEITBA\n",
        "# Tema: Prácticas de programación.\n",
        "\n",
        "from IPython.display import YouTubeVideo\n",
        "YouTubeVideo('BK08jdq1l6M', width=800, height=450)       "
      ],
      "execution_count": null,
      "outputs": [
        {
          "output_type": "execute_result",
          "data": {
            "image/jpeg": "[encoded data removed]",
            "text/html": [
              "\n",
              "        <iframe\n",
              "            width=\"800\"\n",
              "            height=\"450\"\n",
              "            src=\"https://www.youtube.com/embed/BK08jdq1l6M\"\n",
              "            frameborder=\"0\"\n",
              "            allowfullscreen\n",
              "        ></iframe>\n",
              "        "
            ],
            "text/plain": [
              "<IPython.lib.display.YouTubeVideo at 0x7fe3051a99e8>"
            ]
          },
          "metadata": {
            "tags": []
          },
          "execution_count": 1
        }
      ]
    },
    {
      "cell_type": "markdown",
      "metadata": {
        "id": "WerbqqedBUVI"
      },
      "source": [
        "# Input, Output y Variables"
      ]
    },
    {
      "cell_type": "code",
      "metadata": {
        "colab": {
          "base_uri": "https://localhost:8080/",
          "height": 471
        },
        "id": "lIgbE0odfpGk",
        "outputId": "67884275-634e-4e8f-b312-52518ab4c1d7"
      },
      "source": [
        "# Link a Youtube: https://www.youtube.com/watch?v=su9lzFaYhbM&list=PL0YqVCFDPJTnJYWRxmGJsj_xJA-FfdySC&index=3&ab_channel=IEEEITBA\n",
        "# Temas: Input, Output y Variables.\n",
        "\n",
        "from IPython.display import YouTubeVideo\n",
        "YouTubeVideo('su9lzFaYhbM', width=800, height=450)       "
      ],
      "execution_count": null,
      "outputs": [
        {
          "output_type": "execute_result",
          "data": {
            "image/jpeg": "[encoded data removed]",
            "text/html": [
              "\n",
              "        <iframe\n",
              "            width=\"800\"\n",
              "            height=\"450\"\n",
              "            src=\"https://www.youtube.com/embed/su9lzFaYhbM\"\n",
              "            frameborder=\"0\"\n",
              "            allowfullscreen\n",
              "        ></iframe>\n",
              "        "
            ],
            "text/plain": [
              "<IPython.lib.display.YouTubeVideo at 0x7f432a64a1d0>"
            ]
          },
          "metadata": {
            "tags": []
          },
          "execution_count": 30
        }
      ]
    },
    {
      "cell_type": "markdown",
      "metadata": {
        "id": "Br0hUhaH2SGF"
      },
      "source": [
        "## Output\n",
        "\n",
        "El output de un programa es la manera de transmitir información hacia el entorno externo. Por ejemplo, puede escribir en la consola de la computadora, puede generar una imagen, reproducir un sonido, etc. En Google Colaboratory veremos el output del programa debajo de la celda donde fue ejecutado.\n",
        "\n",
        "Para poder mostrar texto, podemos utilizar el comando **print( )** poniendo lo que deseemos mostrar entre los parentesis. Más adelante veremos como generar imágenes, archivos y demás.\n",
        "\n",
        "Noten en el ejemplo que para escribir texto se debe indicar con comillas simples o dobles y para escribir números no se usan comillas.\n",
        "\n",
        "**Tip**: En la esquina superior izquierda del cuadro de texto con el código hay un botón para ejecutar el programa\n",
        "\n"
      ]
    },
    {
      "cell_type": "code",
      "metadata": {
        "id": "xR12q8jt22d5",
        "colab": {
          "base_uri": "https://localhost:8080/"
        },
        "outputId": "5832fc81-ef7f-49ee-e114-43ea29d584a2"
      },
      "source": [
        "\n",
        "# instrucciones \n",
        "# numeros\n",
        "# cadenas de caracteres \n",
        "\n",
        "print(123)\n",
        "print(\"Hola, cómo estas?\")\n",
        "print('Buen día')\n"
      ],
      "execution_count": null,
      "outputs": [
        {
          "output_type": "stream",
          "text": [
            "123\n",
            "Hola, cómo estas?\n",
            "Buen día\n"
          ],
          "name": "stdout"
        }
      ]
    },
    {
      "cell_type": "code",
      "metadata": {
        "id": "8cfe2ZSDWqQj",
        "colab": {
          "base_uri": "https://localhost:8080/",
          "height": 35
        },
        "outputId": "468f1f25-aa4c-4e06-851f-b36b382220ab"
      },
      "source": [
        "123\r\n",
        "\"Hola,cómo estas?\"\r\n",
        "\r\n"
      ],
      "execution_count": null,
      "outputs": [
        {
          "output_type": "execute_result",
          "data": {
            "application/vnd.google.colaboratory.intrinsic+json": {
              "type": "string"
            },
            "text/plain": [
              "'Hola,cómo estas?'"
            ]
          },
          "metadata": {
            "tags": []
          },
          "execution_count": 3
        }
      ]
    },
    {
      "cell_type": "markdown",
      "metadata": {
        "id": "5Ph_xW0TpEXe"
      },
      "source": [
        ""
      ]
    },
    {
      "cell_type": "markdown",
      "metadata": {
        "id": "5TGNp5mVpG_z"
      },
      "source": [
        ""
      ]
    },
    {
      "cell_type": "markdown",
      "metadata": {
        "id": "o7iXxeQFsblK"
      },
      "source": [
        "## Variables\n",
        "\n",
        "Para poder realizar tareas es necesario guardar en la memoria de la computadora los datos que necesita mi aplicación para funcionar. Por ejemplo, en este momento tu navegador web sabe cuántas pestañas hay abiertas y qué página se abrió en cada una, sabe en qué posición de la página estás y qué usuario utilizaste para entrar a Google Colab. Todos estos datos están almacenados en la memoria de la computadora y el navegador lee estos datos y los modifica cada vez que lo requiere.\n",
        "\\\n",
        "En programación, se le asigna un nombre o apodo a cada pequeño segmento de la memoria que almacena un dato o un valor. De esta forma en el programa cada vez que se usa este nombre se esta refiriendo al valor del dato almacenado en la memoria. Este es el concepto de \"variable\".\n",
        "\\\n",
        "En python esto se logra de la siguiente manera:\n",
        "\n"
      ]
    },
    {
      "cell_type": "code",
      "metadata": {
        "colab": {
          "base_uri": "https://localhost:8080/"
        },
        "id": "dFdsoISPuvyX",
        "outputId": "b499c1b0-baff-4c3c-d59e-d449e1e90082"
      },
      "source": [
        "x = 5\n",
        "y = 6 + x \n",
        "print(y)"
      ],
      "execution_count": null,
      "outputs": [
        {
          "output_type": "stream",
          "text": [
            "11\n"
          ],
          "name": "stdout"
        }
      ]
    },
    {
      "cell_type": "markdown",
      "metadata": {
        "id": "d3b-updXAmho"
      },
      "source": [
        "En estas variables podemos guardar lo que sea necesario para ejecutar el programa, por ejemplo si necesitamos guardar texto se indica con: \"(texto)\" o '(texto)'."
      ]
    },
    {
      "cell_type": "code",
      "metadata": {
        "colab": {
          "base_uri": "https://localhost:8080/"
        },
        "id": "ZaesnOreAx4q",
        "outputId": "21a1049d-0b8b-42d7-de48-bc1ea7518f20"
      },
      "source": [
        "x = 'Hola'\n",
        "y = \"Adios\"\n",
        "z = 123\n",
        "print(x)\n",
        "print(z)"
      ],
      "execution_count": null,
      "outputs": [
        {
          "output_type": "stream",
          "text": [
            "Hola\n",
            "123\n"
          ],
          "name": "stdout"
        }
      ]
    },
    {
      "cell_type": "markdown",
      "metadata": {
        "id": "Y642lKnYDzlK"
      },
      "source": [
        "Noten que la instrucción *print( )* permite mostrar el contenido de una variable. Cuando ponemos *print(x)* no imprime la letra *x* sino que imprime el contenido de *x*. Es por esto que para eliminar la confusión se usan comillas cuando queremos mostrar texto y no el contenido de una variable.\n",
        "\n",
        "Es importante tener en cuenta que no es necesario aclarar de antemano si las variables son textos (Strings) o números, el lenguaje lo puede identificar automáticamente\n",
        "\n",
        "**Reglas para el nombre de una variable:**\n",
        "* Debe empezar con una letra (a-z, A-Z) o un guión bajo (_)\n",
        "* Los otros caracteres pueden ser letras, numeros o guión bajo\n",
        "* Distingue mayúsculas de minúsculas\n",
        "* Existen palabras reservadas que no se pueden usar como nombre de variable porque Python las usa para otras cosas. Por ejemplo el nombre de una variable no puede ser *print*.\n",
        "\n",
        "   "
      ]
    },
    {
      "cell_type": "markdown",
      "metadata": {
        "id": "yZl-KaXPCXru"
      },
      "source": [
        "## Input\n",
        "El input de un programa es la manera de recibir información del entorno externo al programa. Esto puede ser un usuario, un archivo, otro programa, un sensor, etc. \n",
        "\n",
        "Para ingresar una variable podemos usar **input( \"Texto a mostrar:\" )**. Corran este código ustedes para que les de una pequeña casilla donde escribir, y luego el programa escribirá lo que ustedes ingresaron. \n",
        "\n"
      ]
    },
    {
      "cell_type": "markdown",
      "metadata": {
        "id": "uNa0exphDxse"
      },
      "source": [
        "# Operaciones básicas con variables\n",
        "\n",
        "\n"
      ]
    },
    {
      "cell_type": "markdown",
      "metadata": {
        "id": "ZM7lIDcRPdtk"
      },
      "source": [
        "### Operaciones de modificación\n"
      ]
    },
    {
      "cell_type": "markdown",
      "metadata": {
        "id": "wV0Fd9xkDefP"
      },
      "source": [
        "Un detalle a tener en cuenta es que la información ingresada por el usuario usando **input( )** será interpretada como texto, no como un número. Por eso cuando queremos ingresar un número usaremos **int( )** para convertir ese texto al numero correspondiente. En la proxima clase quedará claro porqué debemos hacer esto y qué es el *tipo* de una variable."
      ]
    },
    {
      "cell_type": "code",
      "metadata": {
        "colab": {
          "base_uri": "https://localhost:8080/",
          "height": 471
        },
        "id": "VQY1dLo8giDY",
        "outputId": "cd516e71-453b-468b-bcab-d2dfddd7830f"
      },
      "source": [
        "# Link a Youtube: https://www.youtube.com/watch?v=6Bb1i1lBaYM&list=PL0YqVCFDPJTnJYWRxmGJsj_xJA-FfdySC&index=4&ab_channel=IEEEITBA\n",
        "# Tema: Operaciones de modificación.\n",
        "\n",
        "from IPython.display import YouTubeVideo\n",
        "YouTubeVideo('6Bb1i1lBaYM', width=800, height=450)       "
      ],
      "execution_count": null,
      "outputs": [
        {
          "output_type": "execute_result",
          "data": {
            "image/jpeg": "[encoded data removed]",
            "text/html": [
              "\n",
              "        <iframe\n",
              "            width=\"800\"\n",
              "            height=\"450\"\n",
              "            src=\"https://www.youtube.com/embed/6Bb1i1lBaYM\"\n",
              "            frameborder=\"0\"\n",
              "            allowfullscreen\n",
              "        ></iframe>\n",
              "        "
            ],
            "text/plain": [
              "<IPython.lib.display.YouTubeVideo at 0x7fb122cc3668>"
            ]
          },
          "metadata": {
            "tags": []
          },
          "execution_count": 6
        }
      ]
    },
    {
      "cell_type": "markdown",
      "metadata": {
        "id": "6klGA82NBO0K"
      },
      "source": [
        "No sería muy útil un programa si lo único que podemos hacer es guardar en una variable y mostrarla, por lo que podemos realizar algunas operaciones basicas que nos permiten modificar el contenido:\n",
        "\n",
        "\n",
        "*   **+** : Sumar dos variables $a+b$\n",
        "*   **-**  : Restar dos variables $a-b$\n",
        "*   **\\*** : Multiplicar dos variables $a\\cdot b$\n",
        "*   **/** : Dividir una variable por la otra $\\frac{a}{b}$\n",
        "*   **\\*\\*** : Una variable elevado a la otra $a^{b}$\n",
        "*   **=** : Asignarle un valor a una variable $a \\leftarrow b$\n",
        "\n",
        "¿Cual será la salida del siguiente programa?"
      ]
    },
    {
      "cell_type": "code",
      "metadata": {
        "colab": {
          "base_uri": "https://localhost:8080/"
        },
        "id": "LrkSFD2zFKo9",
        "outputId": "fe25e867-d2b9-4cb4-d94a-bfc5f1c8c497"
      },
      "source": [
        "x = 3\n",
        "y = -2\n",
        "y = x*y\n",
        "x = x**2\n",
        "print(y)\n",
        "print(x)"
      ],
      "execution_count": null,
      "outputs": [
        {
          "output_type": "stream",
          "text": [
            "-6\n",
            "9\n"
          ],
          "name": "stdout"
        }
      ]
    },
    {
      "cell_type": "code",
      "metadata": {
        "id": "ccddX1LMZnK5"
      },
      "source": [
        ""
      ],
      "execution_count": null,
      "outputs": []
    },
    {
      "cell_type": "markdown",
      "metadata": {
        "id": "sHe-S2KcF_hT"
      },
      "source": [
        "Python nos permite ahorrar código combinando el operando **=** con alguno de los anteriormente vistos:\n",
        "\n",
        "\n",
        "*   ***=**  : Multiplica la variable $a \\leftarrow a\\cdot b$ \n",
        "*   **/=** : Divide la variable  $a \\leftarrow \\frac{a}{b}$ \n",
        "*   **+=** : Suma a la varaible  $a \\leftarrow a+ b$ \n",
        "*   **-=** : Resta a la variable $a \\leftarrow a- b$\n",
        "\n",
        "¿Cual será la salida del siguiente codigo?"
      ]
    },
    {
      "cell_type": "code",
      "metadata": {
        "colab": {
          "base_uri": "https://localhost:8080/"
        },
        "id": "ndLR4DOcHIOb",
        "outputId": "0fa90371-2dfe-4e8c-8fed-de59ac6e3ffc"
      },
      "source": [
        "x = 17\n",
        "x = x + 3\n",
        "x = x / 10 \n",
        "print(x)\n"
      ],
      "execution_count": null,
      "outputs": [
        {
          "output_type": "stream",
          "text": [
            "2.0\n"
          ],
          "name": "stdout"
        }
      ]
    },
    {
      "cell_type": "markdown",
      "metadata": {
        "id": "Taq1M60JCWcf"
      },
      "source": [
        "#### Mini-desafio\n",
        "\n",
        "Diseñar un programa en el cual el usuario ingrese tres números, uno a la vez, y se muestre a la salida el promedio de los tres números."
      ]
    },
    {
      "cell_type": "code",
      "metadata": {
        "id": "bEAv8GSBAJmu"
      },
      "source": [
        ""
      ],
      "execution_count": null,
      "outputs": []
    },
    {
      "cell_type": "markdown",
      "metadata": {
        "id": "XnTi1ZIDAJwa"
      },
      "source": [
        ""
      ]
    },
    {
      "cell_type": "code",
      "metadata": {
        "id": "msbvN0EQAMBA"
      },
      "source": [
        ""
      ],
      "execution_count": null,
      "outputs": []
    },
    {
      "cell_type": "code",
      "metadata": {
        "colab": {
          "base_uri": "https://localhost:8080/"
        },
        "id": "CTYAThUpChMY",
        "outputId": "f3d40b86-7323-48ad-f26c-167a426ee71b"
      },
      "source": [
        "#### Mini-desafio\r\n",
        "\r\n",
        "# # Diseñar un programa en el cual el usuario ingrese tres números, uno a la vez, y se muestre a la salida el\r\n",
        "# promedio de los tres números.\r\n",
        "\r\n",
        "num1 = int(input(\"dame un numero\"))\r\n",
        "num2 = int(input(\"dame un numero\"))\r\n",
        "num3 = int(input(\"dame un numero\"))\r\n",
        "suma = (num1+num2+num3)\r\n",
        "prom = ((num1+num2+num3)/3)\r\n",
        "print(\"la suma de los tres valores anteriores es: \" + str(suma))\r\n",
        "print(\"el promedio de los tres valores anteriores es: \" + str(prom))"
      ],
      "execution_count": null,
      "outputs": [
        {
          "output_type": "stream",
          "text": [
            "dame un numero15\n",
            "dame un numero20\n",
            "dame un numero25\n",
            "la suma de los tres valores anteriores es: 60\n",
            "el promedio de los tres valores anteriores es: 20.0\n"
          ],
          "name": "stdout"
        }
      ]
    },
    {
      "cell_type": "markdown",
      "metadata": {
        "id": "YVx-ov14IQjN"
      },
      "source": [
        "### Operador módulo\n"
      ]
    },
    {
      "cell_type": "code",
      "metadata": {
        "colab": {
          "base_uri": "https://localhost:8080/",
          "height": 471
        },
        "id": "QhShyfw2gj-u",
        "outputId": "c7361b56-5547-44e0-d796-4a3723c2dcfe"
      },
      "source": [
        "# Link a Youtube: https://www.youtube.com/watch?v=BkP_y_06Ydo&list=PL0YqVCFDPJTnJYWRxmGJsj_xJA-FfdySC&index=5&ab_channel=IEEEITBA\n",
        "# Tema: Operador módulo.\n",
        " \n",
        "from IPython.display import YouTubeVideo\n",
        "YouTubeVideo('BkP_y_06Ydo', width=800, height=450)"
      ],
      "execution_count": null,
      "outputs": [
        {
          "output_type": "execute_result",
          "data": {
            "image/jpeg": "[encoded data removed]",
            "text/html": [
              "\n",
              "        <iframe\n",
              "            width=\"800\"\n",
              "            height=\"450\"\n",
              "            src=\"https://www.youtube.com/embed/BkP_y_06Ydo\"\n",
              "            frameborder=\"0\"\n",
              "            allowfullscreen\n",
              "        ></iframe>\n",
              "        "
            ],
            "text/plain": [
              "<IPython.lib.display.YouTubeVideo at 0x7fb122772550>"
            ]
          },
          "metadata": {
            "tags": []
          },
          "execution_count": 15
        }
      ]
    },
    {
      "cell_type": "markdown",
      "metadata": {
        "id": "aP2Qe3ACCMOg"
      },
      "source": [
        "El operador módulo se utiliza con el símbolo **%**, y permite calcular el resto de un numero en la división por otro. Por ejemplo:\n",
        "\n",
        "*   $5$ % $3$ $= 2$\n",
        "*   $17$ % $10$ $= 7$\n",
        "*   $9$ % $6$ $= 3$\n",
        "*   $15$ % $5$ $= 0$\n",
        "\n",
        "Podríamos por ejemplo preguntar si el resto de un numero **x** en la division por **y** es igual a 0 y así saber si **x** es multiplo de **y**:"
      ]
    },
    {
      "cell_type": "code",
      "metadata": {
        "colab": {
          "base_uri": "https://localhost:8080/",
          "height": 129
        },
        "id": "y4189YO2KCI4",
        "outputId": "d3832a7b-7580-439f-f27f-a0ab589abf28"
      },
      "source": [
        "x = 27\n",
        "y = 9\n",
        "print( x % y == 0 )"
      ],
      "execution_count": null,
      "outputs": [
        {
          "output_type": "error",
          "ename": "SyntaxError",
          "evalue": "ignored",
          "traceback": [
            "\u001b[0;36m  File \u001b[0;32m\"<ipython-input-17-1050e6dc283d>\"\u001b[0;36m, line \u001b[0;32m3\u001b[0m\n\u001b[0;31m    print( x % y = 0 )\u001b[0m\n\u001b[0m          ^\u001b[0m\n\u001b[0;31mSyntaxError\u001b[0m\u001b[0;31m:\u001b[0m keyword can't be an expression\n"
          ]
        }
      ]
    },
    {
      "cell_type": "markdown",
      "metadata": {
        "id": "7kbzOgPjK2aU"
      },
      "source": [
        "#### Mini-desafio\n",
        "Realizar un programa al cual se ingresa el día del año mediante un número de 0 a 364, y que muestra en pantalla a qué día de la semana corresponde mediante un número de 0 a 6 (mostrar el número 0 si corresponde a Lunes y 6 si es Domingo)\n",
        "\n",
        "Suponemos que el día 0 del año cae un Lunes:\n",
        "\n",
        "<img height=\"300\" src=\"https://raw.githubusercontent.com/IEEESBITBA/Curso-Python/master/_assets/calendario.png\">\n",
        "\n",
        "\n",
        "**Ejemplos:**\n",
        "- *Input*: `2`\n",
        "\n",
        "  *Output* => `2` (Ya que el día 2 cae Miércoles, y Miércoles es 2 en la semana)\n",
        "\n",
        "- *Input*: `10`\n",
        "\n",
        "  *Output* => `3` (Ya que el día 10 cae Jueves, y Jueves es 3 en la semana)\n",
        "\n",
        "- *Input*: `7`\n",
        "\n",
        "  *Output* => `0` (Ya que el día 7 cae Lunes, y Lunes es 0 en la semana)\n",
        "\n",
        "- *Input*: `25`\n",
        "\n",
        "  *Output* => `4` (Ya que el día 25 cae Viernes, y Viernes es 4 en la semana)\n",
        "\n"
      ]
    },
    {
      "cell_type": "code",
      "metadata": {
        "id": "KFIK8BVBMZla"
      },
      "source": [
        "\n",
        "\n",
        "\n"
      ],
      "execution_count": null,
      "outputs": []
    },
    {
      "cell_type": "markdown",
      "metadata": {
        "id": "78iBTQVNISi7"
      },
      "source": [
        "### Operaciones de comparación\n"
      ]
    },
    {
      "cell_type": "code",
      "metadata": {
        "colab": {
          "base_uri": "https://localhost:8080/",
          "height": 471
        },
        "id": "knrKRPgJgv61",
        "outputId": "f135a35d-f0a1-4637-8888-f327a5710b5c"
      },
      "source": [
        "# Link a Youtube: https://www.youtube.com/watch?v=9HoKXY8uKVA&list=PL0YqVCFDPJTnJYWRxmGJsj_xJA-FfdySC&index=6&ab_channel=IEEEITBA\n",
        "# Tema: Operaciones de comparación.\n",
        "\n",
        "from IPython.display import YouTubeVideo\n",
        "YouTubeVideo('9HoKXY8uKVA', width=800, height=450)       "
      ],
      "execution_count": null,
      "outputs": [
        {
          "output_type": "execute_result",
          "data": {
            "image/jpeg": "[encoded data removed]",
            "text/html": [
              "\n",
              "        <iframe\n",
              "            width=\"800\"\n",
              "            height=\"450\"\n",
              "            src=\"https://www.youtube.com/embed/9HoKXY8uKVA\"\n",
              "            frameborder=\"0\"\n",
              "            allowfullscreen\n",
              "        ></iframe>\n",
              "        "
            ],
            "text/plain": [
              "<IPython.lib.display.YouTubeVideo at 0x7fb122cacf98>"
            ]
          },
          "metadata": {
            "tags": []
          },
          "execution_count": 45
        }
      ]
    },
    {
      "cell_type": "markdown",
      "metadata": {
        "id": "Z9TrV5p6BzbZ"
      },
      "source": [
        "Existen operaciones donde se comparan las propiedades de una variable.\n",
        "*   **<** : Menor que $a < b$\n",
        "*   **>** : Mayor que $a > b$\n",
        "*   **<=** : Menor o igual que $a \\leq b$\n",
        "*   **>=** : Mayor o igual que $a \\geq b$\n",
        "*   **==** : Es igual $a = b$\n",
        "*   **!=** : Es distinto $a \\neq b$\n",
        "\n",
        "Al comprarar dos números se obtiene True o False (Verdadero o Falso) según si se cumple la condición:"
      ]
    },
    {
      "cell_type": "code",
      "metadata": {
        "id": "xlYwcqQrOy5I"
      },
      "source": [
        "# otro tipo base, igual que los numeros y las cadenas de caracteres es el Bool. True y False\n",
        "\n",
        "z = True\n",
        "y = False \n",
        "\n",
        "x = 4\n",
        "print(x >= 4)\n",
        "print(x < 3)"
      ],
      "execution_count": null,
      "outputs": []
    },
    {
      "cell_type": "code",
      "metadata": {
        "id": "cVMrA726NSf9"
      },
      "source": [
        "x = int( input() )\n",
        "x = 2*x\n",
        "print( x%2 == 0 )"
      ],
      "execution_count": null,
      "outputs": []
    },
    {
      "cell_type": "markdown",
      "metadata": {
        "id": "julg_kMLTzCT"
      },
      "source": [
        "También podemos comparar muchas condiciones utilizando:\n",
        "*  **and**: Si se cumplen las dos condiciones $a \\land b$\n",
        "*  **or**: Si se cumple alguna de las condiciones $ a \\lor b$\n",
        "*  **not**: Si no se cumple esa condición $ \\overline{a} $\n",
        "\n",
        "Veamos un ejemplo:"
      ]
    },
    {
      "cell_type": "code",
      "metadata": {
        "id": "uGxeHWppUKLP"
      },
      "source": [
        "# cond1 and cond2 \n",
        "# cond1 or cond2 \n",
        "\n",
        "\n",
        "\n",
        "x = 4\n",
        "y = x > 5 and x < 7\n",
        "z = x > 5 or x < 7\n",
        "k = not x > 5\n",
        "print(y)\n",
        "print(z)\n",
        "print(k)"
      ],
      "execution_count": null,
      "outputs": []
    },
    {
      "cell_type": "code",
      "metadata": {
        "id": "U1nlh5djzB5h"
      },
      "source": [
        "\n",
        "r = True or False and not (1>2)\n",
        "print(r)"
      ],
      "execution_count": null,
      "outputs": []
    },
    {
      "cell_type": "markdown",
      "metadata": {
        "id": "2cJd7NrKV9dK"
      },
      "source": [
        "Estas condiciones pueden agruparse con ( condicion1 ) **and/or** ( condicion2 ), esto permite chequar condiciones complejas:"
      ]
    },
    {
      "cell_type": "code",
      "metadata": {
        "id": "4LYKsyiXLAWW"
      },
      "source": [
        "x = 10\n",
        "y = 5\n",
        "z = (y > x and 15 > x) or (y < x and 15 > x)\n",
        "print(z)"
      ],
      "execution_count": null,
      "outputs": []
    },
    {
      "cell_type": "markdown",
      "metadata": {
        "id": "KGPMKjbABDrz"
      },
      "source": [
        "# Flujo de Programa\n",
        "Los programas siguen un \"flujo\" definido por el programador. Esto le permite realizar operaciones complejas. Notar que todas estas estructuras terminan con un \"**:**\" , y la siguiente línea tiene un tab de indentación (como una sangría).\n",
        "\n",
        " \n",
        "\n",
        "\n"
      ]
    },
    {
      "cell_type": "markdown",
      "metadata": {
        "id": "GR7sbaKfB7T3"
      },
      "source": [
        "###   Estructura if\n",
        "\n"
      ]
    },
    {
      "cell_type": "code",
      "metadata": {
        "colab": {
          "base_uri": "https://localhost:8080/",
          "height": 471
        },
        "id": "n67hvahng1k9",
        "outputId": "b58fa0ca-e368-4b22-9466-165ee0c50e83"
      },
      "source": [
        "# Link a Youtube: https://www.youtube.com/watch?v=IGiU5pAW1h0&list=PL0YqVCFDPJTnJYWRxmGJsj_xJA-FfdySC&index=7\n",
        "# Tema: Bloque if.\n",
        "\n",
        "from IPython.display import YouTubeVideo\n",
        "YouTubeVideo('IGiU5pAW1h0', width=800, height=450)       "
      ],
      "execution_count": null,
      "outputs": [
        {
          "output_type": "execute_result",
          "data": {
            "image/jpeg": "[encoded data removed]",
            "text/html": [
              "\n",
              "        <iframe\n",
              "            width=\"800\"\n",
              "            height=\"450\"\n",
              "            src=\"https://www.youtube.com/embed/IGiU5pAW1h0\"\n",
              "            frameborder=\"0\"\n",
              "            allowfullscreen\n",
              "        ></iframe>\n",
              "        "
            ],
            "text/plain": [
              "<IPython.lib.display.YouTubeVideo at 0x7fb11aa4fb70>"
            ]
          },
          "metadata": {
            "tags": []
          },
          "execution_count": 46
        }
      ]
    },
    {
      "cell_type": "markdown",
      "metadata": {
        "id": "rqyrcoqnPmi3"
      },
      "source": [
        "Es la estructura básica que le permite al programador ver si se cumple una condición, y realizar distintas acciones según si eso sucede o no.\n",
        "\n",
        "**if** (condicion):\n",
        "    \n",
        "    ... lo que se hace si se cumple la condición\n",
        "    \n",
        "**elif** (condicion2):\n",
        "\n",
        "    ... lo que se hace si se cumple la condicion2\n",
        "     \n",
        "**else**:\n",
        "\n",
        "    ... lo que se hace si no se cumple la condición\n",
        "    \n",
        "    \n",
        " Siempre se comienza con **if**, después puede haber cualquier cantidad de **elif** (o ninguno) y luego se puede terminar con **else** (o no). Luego del **else** no puede haber más **elif**.\n",
        " \n",
        " ¿Cual será la salida del siguiente programa?"
      ]
    },
    {
      "cell_type": "code",
      "metadata": {
        "id": "Y9oaFC5vCFB7"
      },
      "source": [
        "x = 5\n",
        "y = 7\n",
        " \n",
        " \n",
        "if x == y:\n",
        "  print(x, \" x es igual a y\")\n",
        "  print(\"fdfafdfa\")"
      ],
      "execution_count": null,
      "outputs": []
    },
    {
      "cell_type": "code",
      "metadata": {
        "colab": {
          "base_uri": "https://localhost:8080/"
        },
        "id": "ejJfMzOtQL00",
        "outputId": "1606bc0e-289c-4a66-daee-0fc2d28a5665"
      },
      "source": [
        "x = -1\n",
        "y = 4\n",
        "\n",
        "if y == 5:\n",
        "    print(\"Adivinamos el valor de y!\")      \n",
        "    \n",
        "if x == 5:\n",
        "    print(\"Adivinamos el valor de x!\")\n",
        "else:\n",
        "    print(\"No adivinamos el valor de x  :(\")\n",
        "    \n",
        "if x > y:\n",
        "    print(\"x es mayor que y\")\n",
        "elif x < y:\n",
        "    print(\"y es mayor que x\")\n",
        "elif x == y:\n",
        "    print(\"x e y son iguales\")\n",
        "else:\n",
        "    print(\"que?????\")"
      ],
      "execution_count": null,
      "outputs": [
        {
          "output_type": "stream",
          "text": [
            "No adivinamos el valor de x  :(\n",
            "y es mayor que x\n"
          ],
          "name": "stdout"
        }
      ]
    },
    {
      "cell_type": "markdown",
      "metadata": {
        "id": "mUrWYINjEk-6"
      },
      "source": [
        "#### Mini-desafio if\n",
        "1. Realizar un programa que revise si una nota está aprobada (es decir si es mayor o igual a 4) utilizando un if/else. La nota será ingresada por el usuario usando input().\n",
        "2. Realizar un programa que convierta una nota porcentual del 0 al 100 a una letra entre A y F de acuerdo a la siguiente conversión:\n",
        "\n",
        " - A: 90–100\n",
        "\n",
        " - B: 80–89\n",
        "\n",
        " - C: 70–79\n",
        "\n",
        " - D: 60–69\n",
        "\n",
        " - F: 0–59"
      ]
    },
    {
      "cell_type": "code",
      "metadata": {
        "colab": {
          "base_uri": "https://localhost:8080/"
        },
        "id": "rK3F0gJkFQlh",
        "outputId": "d8a83afa-7c16-45aa-bd6b-bd3bec1cdc8b"
      },
      "source": [
        "# RESOLUCION MiniDesafio 1:\n",
        "while True:\n",
        "\ttry:\n",
        "\t\tnota = int(input(\"Introduce una calificación del 0 al 10: \"))\n",
        "\texcept ValueError:\n",
        "\t\tprint('Dato incorrecto... Inténtelo nuevamente!')\n",
        "\t\tcontinue\n",
        "\telse:\n",
        "\t\tbreak\n",
        "\n",
        "if nota >= 0 and nota <= 10 :\n",
        "\tif nota >= 4:\n",
        "\t\tprint('APROBADO')\n",
        "\n",
        "\telse:\n",
        "\t\tprint('DESAPROBADO')\n",
        "else:\n",
        "\tprint('El valor ingresado esta fuera de rango')\n",
        "\n",
        "\n",
        "\n",
        "#RESOLUCIÓN MIDESAFIO2:\n",
        "\n",
        "# tomar una nota \n",
        "v_nota = int(input(\"Ing. nota: \"))\n",
        "\n",
        "# verificar si la nota está entre 90 y 100\n",
        "if v_nota >= 90 and v_nota <= 100:\n",
        "  print('A')\n",
        "elif v_nota >= 80 and v_nota <= 89:\n",
        "  print('B')\n",
        "elif v_nota >= 70 and v_nota <= 79:\n",
        "  print('C')\n",
        "elif v_nota >= 60 and v_nota <= 69:\n",
        "  print('D')\n",
        "else:\n",
        "  print('F')\n"
      ],
      "execution_count": null,
      "outputs": [
        {
          "output_type": "stream",
          "text": [
            "Introduce una calificación del 0 al 10: 10\n",
            "APROBADO\n",
            "Ing. nota: 100\n",
            "A\n"
          ],
          "name": "stdout"
        }
      ]
    },
    {
      "cell_type": "markdown",
      "metadata": {
        "id": "J0shbiwuHYah"
      },
      "source": [
        "###  Estructura while\n",
        "\n"
      ]
    },
    {
      "cell_type": "code",
      "metadata": {
        "id": "ZuO2Tm1yg8C-"
      },
      "source": [
        "# Link a Youtube: https://www.youtube.com/watch?v=GBWvoYlbTRs&list=PL0YqVCFDPJTnJYWRxmGJsj_xJA-FfdySC&index=8\n",
        "# Tema: Bloque while.\n",
        "\n",
        "from IPython.display import YouTubeVideo\n",
        "YouTubeVideo('GBWvoYlbTRs', width=800, height=450)"
      ],
      "execution_count": null,
      "outputs": []
    },
    {
      "cell_type": "markdown",
      "metadata": {
        "id": "40pPFBX6CXKJ"
      },
      "source": [
        "Permite ejecutar operaciones mientras se cumpla una condición.\n",
        "\n",
        "**while** (Condicion):\n",
        "\n",
        "    ... lo que se hace mientras se cumpla la condicion\n",
        "\n",
        "**else** :\n",
        "\n",
        "    ... Se ejecuta cuando la condicion no se cumple más\n",
        "    \n",
        "Esto introduce otra estructura basica de un programa que son los ciclos (loops o bucles). En código se ve de la siguiente manera:\n",
        "\n"
      ]
    },
    {
      "cell_type": "code",
      "metadata": {
        "colab": {
          "base_uri": "https://localhost:8080/"
        },
        "id": "LLcZ4LH3CMUt",
        "outputId": "43e1c998-02a0-4627-801b-2132bf0d59eb"
      },
      "source": [
        "x = 100\n",
        "\n",
        "while x <= 120:\n",
        "    \n",
        "    x = x + 1\n",
        "    print(x)\n",
        "\n",
        "\n",
        "print('Termina el while')\n",
        "\n",
        "print(\"Continuo con el resto del programa\")"
      ],
      "execution_count": null,
      "outputs": [
        {
          "output_type": "stream",
          "text": [
            "101\n",
            "102\n",
            "103\n",
            "104\n",
            "105\n",
            "106\n",
            "107\n",
            "108\n",
            "109\n",
            "110\n",
            "111\n",
            "112\n",
            "113\n",
            "114\n",
            "115\n",
            "116\n",
            "117\n",
            "118\n",
            "119\n",
            "120\n",
            "121\n",
            "Termina el while\n",
            "Continuo con el resto del programa\n"
          ],
          "name": "stdout"
        }
      ]
    },
    {
      "cell_type": "markdown",
      "metadata": {
        "id": "tzu1YFDNQTQu"
      },
      "source": [
        "Es importante tener en cuenta que la condición se evalúa sólo al principio del loop.\n",
        "\n",
        "Al usar una variable auxiliar para contar la cantidad de repeticiones del while, es recomendable no modificar su valor dentro del bloque excepto para incrementar/decrementar su valor acordemente. Esto es porque se corre el riesgo de que la condición siempre sea True y el while se ejecute infinitamente, además es dificil darse cuenta de que la cantidad de ciclos será de hecho la que queremos.\n",
        "\n",
        "¿Qué realiza este programa?"
      ]
    },
    {
      "cell_type": "code",
      "metadata": {
        "colab": {
          "base_uri": "https://localhost:8080/"
        },
        "id": "8ZnPPjB4h3Nz",
        "outputId": "80fa442e-8f72-4373-c8fe-80221166bdef"
      },
      "source": [
        "nota = int( input('Ingrese un número del 1 al 10: ') )\n",
        "\n",
        "condi1 = nota < 1 \n",
        "condi2 = nota > 10\n",
        "condi = condi1 or condi2 \n",
        "\n",
        "while condi:\n",
        "  print('Fuera de rango!')\n",
        "  nota = int( input('Ingrese un número del 1 al 10: ') )\n",
        "  condi1 = nota < 1 \n",
        "  condi2 = nota > 10\n",
        "  condi = condi1 or condi2\n",
        "\n",
        "print(\"Nota ok\")\n"
      ],
      "execution_count": null,
      "outputs": [
        {
          "output_type": "stream",
          "text": [
            "Ingrese un número del 1 al 10: 50\n",
            "Fuera de rango!\n",
            "Ingrese un número del 1 al 10: 4\n",
            "Nota ok\n"
          ],
          "name": "stdout"
        }
      ]
    },
    {
      "cell_type": "markdown",
      "metadata": {
        "id": "KHHwPfH3QZQO"
      },
      "source": [
        "#### Mini-desafío If y While\n",
        "Implementar un programa que muestre la siguiente secuencia:\n",
        "\n",
        "1, 2, 3, 4, 5, 4, 3, 2, 1, 0\n",
        "\n",
        "**Para un desafío mayor:** Utilizar un solo *while*, un solo *if* y un solo *else*\n",
        "\n",
        "\n"
      ]
    },
    {
      "cell_type": "code",
      "metadata": {
        "colab": {
          "base_uri": "https://localhost:8080/"
        },
        "id": "ELNQM61IIni8",
        "outputId": "a052fe0e-d689-40be-f611-74f664ee2f5b"
      },
      "source": [
        "x=1\r\n",
        "y=4\r\n",
        "while y>= 0:\r\n",
        "  if x<=5:\r\n",
        "    print(x)\r\n",
        "    x+=1\r\n",
        "  else:\r\n",
        "    print(y)\r\n",
        "    y-=1\r\n",
        "\r\n"
      ],
      "execution_count": null,
      "outputs": [
        {
          "output_type": "stream",
          "text": [
            "1\n",
            "2\n",
            "3\n",
            "4\n",
            "5\n",
            "4\n",
            "3\n",
            "2\n",
            "1\n",
            "0\n"
          ],
          "name": "stdout"
        }
      ]
    },
    {
      "cell_type": "markdown",
      "metadata": {
        "id": "T-KOiUHbLcde"
      },
      "source": [
        "### Estructura for\n",
        "\n"
      ]
    },
    {
      "cell_type": "code",
      "metadata": {
        "colab": {
          "base_uri": "https://localhost:8080/",
          "height": 471
        },
        "id": "6beb-iWShY39",
        "outputId": "a2792468-acca-47d3-e06b-011753b00704"
      },
      "source": [
        "# Link a Youtube: https://www.youtube.com/watch?v=4yqiNkuTG_4&list=PL0YqVCFDPJTnJYWRxmGJsj_xJA-FfdySC&index=9\n",
        "# Tema: Bloque for.\n",
        "\n",
        "from IPython.display import YouTubeVideo\n",
        "YouTubeVideo('4yqiNkuTG_4', width=800, height=450)       "
      ],
      "execution_count": null,
      "outputs": [
        {
          "output_type": "execute_result",
          "data": {
            "image/jpeg": "[encoded data removed]",
            "text/html": [
              "\n",
              "        <iframe\n",
              "            width=\"800\"\n",
              "            height=\"450\"\n",
              "            src=\"https://www.youtube.com/embed/4yqiNkuTG_4\"\n",
              "            frameborder=\"0\"\n",
              "            allowfullscreen\n",
              "        ></iframe>\n",
              "        "
            ],
            "text/plain": [
              "<IPython.lib.display.YouTubeVideo at 0x7fb11a95e390>"
            ]
          },
          "metadata": {
            "tags": []
          },
          "execution_count": 56
        }
      ]
    },
    {
      "cell_type": "markdown",
      "metadata": {
        "id": "PhYkTwLbCbsO"
      },
      "source": [
        "La estructura del **for** permite realizar una serie de acciones con una variable, que cambia su valor en cada repetición (iteración).\n",
        "\n",
        "**for** (variable) **in** (conjunto de valores):\n",
        "\n",
        "    ... Lo que quieras hacer con tu variable\n",
        "\n",
        "Veámoslo en un ejemplo de codigo:\n"
      ]
    },
    {
      "cell_type": "code",
      "metadata": {
        "colab": {
          "base_uri": "https://localhost:8080/"
        },
        "id": "Cwo3zZy5I3x_",
        "outputId": "34a53b4b-295a-482a-e86d-125f1bc8e361"
      },
      "source": [
        "for x in [10,255,'fsdf',4,5,6]:\n",
        "    print(x)\n",
        "    "
      ],
      "execution_count": null,
      "outputs": [
        {
          "output_type": "stream",
          "text": [
            "10\n",
            "255\n",
            "fsdf\n",
            "4\n",
            "5\n",
            "6\n"
          ],
          "name": "stdout"
        }
      ]
    },
    {
      "cell_type": "code",
      "metadata": {
        "colab": {
          "base_uri": "https://localhost:8080/"
        },
        "id": "wt0rxIHGhL6v",
        "outputId": "77b9b63f-9144-4c3f-cbea-f2d13d8efc3c"
      },
      "source": [
        "xx = range(0,15,2)\n",
        "print(xx)\n"
      ],
      "execution_count": null,
      "outputs": [
        {
          "output_type": "stream",
          "text": [
            "range(0, 15, 2)\n"
          ],
          "name": "stdout"
        }
      ]
    },
    {
      "cell_type": "markdown",
      "metadata": {
        "id": "VujdlKBZMfE3"
      },
      "source": [
        "**range**(a,b,d)  nos genera los valores desde a hasta b con incrementos de d, por ejemplo el siguiente codigo generara los numeros pares entre 0 y 10:\n",
        "\n"
      ]
    },
    {
      "cell_type": "code",
      "metadata": {
        "id": "XCHNbgvEMdIb"
      },
      "source": [
        "for x in range(0,10,2):\n",
        "    print(x)"
      ],
      "execution_count": null,
      "outputs": []
    },
    {
      "cell_type": "markdown",
      "metadata": {
        "id": "7gts4JhvGzdz"
      },
      "source": [
        "Noten que el límite superior del rango nunca es incluído.\n",
        "\n",
        "Al utilizar la instrucción **range( )** no es necesario proporcionar siempre los 3 parametros. Observen que sucede cuando se proporcionan 1 o 2 parámetros:"
      ]
    },
    {
      "cell_type": "code",
      "metadata": {
        "colab": {
          "base_uri": "https://localhost:8080/"
        },
        "id": "ofmsq6j6HB4E",
        "outputId": "91fc5a04-2dbc-422e-b0bf-8e1233649040"
      },
      "source": [
        "print(\"range(5):\")\n",
        "for x in range(5):\n",
        "    print(x)\n",
        "\n",
        "print(\"range(10, 15):\")\n",
        "for x in range(10, 15,2):\n",
        "    print(x)"
      ],
      "execution_count": null,
      "outputs": [
        {
          "output_type": "stream",
          "text": [
            "range(5):\n",
            "0\n",
            "1\n",
            "2\n",
            "3\n",
            "4\n",
            "range(10, 15):\n",
            "10\n",
            "12\n",
            "14\n"
          ],
          "name": "stdout"
        }
      ]
    },
    {
      "cell_type": "markdown",
      "metadata": {
        "id": "UoNf8Ce-NAi5"
      },
      "source": [
        "#### Mini-desafío for\n",
        "Mostrar la siguiente secuencia de datos utilizando la instrucción for y la instrucción if:\n",
        "\n",
        "0, 1, 4, 9, 16, 25, 6, 7, 8, 9"
      ]
    },
    {
      "cell_type": "code",
      "metadata": {
        "colab": {
          "base_uri": "https://localhost:8080/"
        },
        "id": "E3NctxBaM3kG",
        "outputId": "39f65b43-f1cf-44a2-f3fe-f700f1eb47a4"
      },
      "source": [
        "x = 0\r\n",
        "y = 1\r\n",
        "for z in range(0,10):\r\n",
        "  if z <=5:\r\n",
        "    print(x)\r\n",
        "    x += y\r\n",
        "    y += 2\r\n",
        "  else:\r\n",
        "    print(z)\r\n",
        " \r\n",
        "   "
      ],
      "execution_count": null,
      "outputs": [
        {
          "output_type": "stream",
          "text": [
            "0\n",
            "1\n",
            "4\n",
            "9\n",
            "16\n",
            "25\n",
            "6\n",
            "7\n",
            "8\n",
            "9\n"
          ],
          "name": "stdout"
        }
      ]
    },
    {
      "cell_type": "markdown",
      "metadata": {
        "id": "0oG-SkG7PIcN"
      },
      "source": [
        "# Funciones\n"
      ]
    },
    {
      "cell_type": "code",
      "metadata": {
        "colab": {
          "base_uri": "https://localhost:8080/",
          "height": 471
        },
        "id": "zi8qZ0GGhdT0",
        "outputId": "5e26ec8c-fb84-4df0-a5e1-3fc7cf957225"
      },
      "source": [
        "# Link a Youtube: https://www.youtube.com/watch?v=q63aQmf_73A&list=PL0YqVCFDPJTnJYWRxmGJsj_xJA-FfdySC&index=10\n",
        "# Tema: Funciones.\n",
        "\n",
        "from IPython.display import YouTubeVideo\n",
        "YouTubeVideo('q63aQmf_73A', width=800, height=450)       "
      ],
      "execution_count": null,
      "outputs": [
        {
          "output_type": "execute_result",
          "data": {
            "image/jpeg": "[encoded data removed]",
            "text/html": [
              "\n",
              "        <iframe\n",
              "            width=\"800\"\n",
              "            height=\"450\"\n",
              "            src=\"https://www.youtube.com/embed/q63aQmf_73A\"\n",
              "            frameborder=\"0\"\n",
              "            allowfullscreen\n",
              "        ></iframe>\n",
              "        "
            ],
            "text/plain": [
              "<IPython.lib.display.YouTubeVideo at 0x7f432a692eb8>"
            ]
          },
          "metadata": {
            "tags": []
          },
          "execution_count": 37
        }
      ]
    },
    {
      "cell_type": "markdown",
      "metadata": {
        "id": "sdwdKtGKCkzG"
      },
      "source": [
        "Podemos pensar que una funcion es como tomar un conjunto de instrucciones y empaquetarlas bajo el mismo nombre, es como un pequeño programa dentro del programa, una manera de crear nuestras propias instrucciones. Las funciones son bloques que nos permiten acortar el código no repitiendo estructuras que necesitamos utilizar mucho. Al igual que los programas las funciones tienen un input y un output: el input son las variables de entrada y su output es el valor o valores que devuelven.\n",
        "\n",
        "Por ejemplo, supongamos que frecuentemente necesito calcular las ganancias totales generadas por cierto producto. Cada vez que quiera realizar este cálculo tendré que obtener el costo de venta, restarle el costo de fabricación y multiplicarlo por la cantidad de ventas. Usando una función puedo crear mi propia instrucción a la que se le ingrese el código de producto y devuelva el resultado. Así puedo escribir el nombre de la función cada vez que quiera hacer este cálculo sin tener que escribir nuevamente el procedimiento completo.\n",
        "\n",
        "En Python las funciones se implementan de la siguiente forma:\n",
        "\n",
        "\n",
        "**def** miFunción($a_i,b_i,c_i,...$)**:**\n",
        "\n",
        "     ... Hago lo que necesite con las variables a,b,c\n",
        "    \n",
        "   **return** $a_o,b_o,c_o,...$\n",
        "\n",
        "\n",
        "Es importante tener en cuenta que la *definicion* de la funcion no provoca ninguna acción, solamente le indica a la computadora que la proxima vez que se escriba el nombre de la función, esta debe realizar las instrucciones indicadas por la definición.\n",
        "\n",
        "Veamos un ejemplo:"
      ]
    },
    {
      "cell_type": "code",
      "metadata": {
        "colab": {
          "base_uri": "https://localhost:8080/"
        },
        "id": "mpsgG39DNcme",
        "outputId": "5e1114d3-b474-453e-abe8-4a535525fd01"
      },
      "source": [
        "def suma(a,b):\n",
        "    return a+b\n",
        "\n",
        "z = suma(2,4)\n",
        "\n",
        "print(z)"
      ],
      "execution_count": null,
      "outputs": [
        {
          "output_type": "stream",
          "text": [
            "6\n"
          ],
          "name": "stdout"
        }
      ]
    },
    {
      "cell_type": "code",
      "metadata": {
        "id": "JBgRh4Vujojx"
      },
      "source": [
        "def f_hola(x):\n",
        "\n",
        "  y = x + 1 \n",
        "\n",
        "  return y"
      ],
      "execution_count": null,
      "outputs": []
    },
    {
      "cell_type": "code",
      "metadata": {
        "colab": {
          "base_uri": "https://localhost:8080/"
        },
        "id": "SW1V-2-8kBf0",
        "outputId": "7d00b0ed-4adf-4de8-a5f0-bcbe21b2aa6a"
      },
      "source": [
        "r = f_hola(10)\n",
        "print(\"La variable r tiene el valor: \",r)"
      ],
      "execution_count": null,
      "outputs": [
        {
          "output_type": "stream",
          "text": [
            "La variable r tiene el valor:  11\n"
          ],
          "name": "stdout"
        }
      ]
    },
    {
      "cell_type": "markdown",
      "metadata": {
        "id": "q5WyWK1KQVor"
      },
      "source": [
        "La instrucción **return** sirve para indicar el resultado que la función \"devuelve\". Una vez que se alcanza la instrucción **return** la función termina y devuelve el valor indicado. En general es preferible devolver información usando **return** antes que imprimirla usando **print** ya que esto permite reutilizar la función para una cantidad de casos mayor, donde no siempre quiero mostrar el resultado en pantalla, aunque queda a criterio de cada uno para lo que necesite.\n",
        "\n",
        "Esto tambien podemos combinarlo con las estructuras que vimos previamente:"
      ]
    },
    {
      "cell_type": "code",
      "metadata": {
        "colab": {
          "base_uri": "https://localhost:8080/"
        },
        "id": "_xMxxM6EQQon",
        "outputId": "59aa2ec0-2762-4d91-eef4-f553798b6e09"
      },
      "source": [
        "def chequarContraseña(c):\n",
        "    if c == \"Secreto\":\n",
        "        resultado = True\n",
        "    else:\n",
        "        resultado = False\n",
        "    return resultado\n",
        "        \n",
        "print( chequarContraseña(\"hola\") )\n",
        "print( chequarContraseña(\"Secreto\") )"
      ],
      "execution_count": null,
      "outputs": [
        {
          "output_type": "stream",
          "text": [
            "False\n",
            "True\n"
          ],
          "name": "stdout"
        }
      ]
    },
    {
      "cell_type": "markdown",
      "metadata": {
        "id": "W64FPKi5RaU3"
      },
      "source": [
        "Noten que no siempre es necesario poner la instrucción **return** al final de la función. En este caso la función termina cuando finaliza el bloque indentado (con sangría).\n",
        "\n",
        "¿Se dieron cuenta que la forma que usamos para imprimir una variable es una función?, **print**( ... ) lo que hace es llamar a una función ya creada que está en el estandar de python y permite que mostremos el contendido que se le pase como parametro a la función."
      ]
    },
    {
      "cell_type": "markdown",
      "metadata": {
        "id": "sgCdpQfDS5wG"
      },
      "source": [
        "### Mini-desafío funciones\n",
        "Escribir una función que chequee los siguientes usuarios y contraseñas:\n",
        "*  Usuario: Juan  -  Contraseña: 12345_\n",
        "*  Usuario: Pablo - Contraseña: xDcFvGbHn\n",
        "\n",
        "La función debe recibir como parámetros el usuario y la contraseña, y debe devolver el valor True o False."
      ]
    },
    {
      "cell_type": "code",
      "metadata": {
        "colab": {
          "base_uri": "https://localhost:8080/"
        },
        "id": "cqBdQ2P-RPU6",
        "outputId": "57a59d82-8c62-407f-a833-4566936a5315"
      },
      "source": [
        "def chequearUsuarioContraseña(usuario, contraseña):\r\n",
        "  if (usuario == 'Juan' and contraseña == '12345_') or (usuario == 'Pablo' and contraseña == 'xDcFvGbHn'):\r\n",
        "    return True\r\n",
        "  else:\r\n",
        "    return False\r\n",
        "\r\n",
        "nombre = input('Ingrese su Usuario: ')\r\n",
        "password = input('Ingrese su Contraseña: ')\r\n",
        "chequearUsuarioContraseña(nombre, password)"
      ],
      "execution_count": null,
      "outputs": [
        {
          "output_type": "stream",
          "text": [
            "Ingrese su Usuario: gfgfdg\n",
            "Ingrese su Contraseña: gfgfd\n"
          ],
          "name": "stdout"
        },
        {
          "output_type": "execute_result",
          "data": {
            "text/plain": [
              "False"
            ]
          },
          "metadata": {
            "tags": []
          },
          "execution_count": 42
        }
      ]
    },
    {
      "cell_type": "markdown",
      "metadata": {
        "id": "GFcW9tqKCZPZ"
      },
      "source": [
        "### Funciones con recursión\n"
      ]
    },
    {
      "cell_type": "markdown",
      "metadata": {
        "id": "vsZiJZsCCuiW"
      },
      "source": [
        "A pesar de ser un curso introductorio, nos parece oportuno comentar una técnica bastante útil en programación, aunque puede ser compleja. No va a ser necesario entender esto para las proximas clases así que queda para los que estén interesados.\n",
        "\n",
        "Esta técnica es la de ejecutar una función dentro de sí misma, la técnica se llama **recursión** y se ve similar a esto:\n",
        "\n",
        "```\n",
        "def f(a):\n",
        "  ...\n",
        "  f(b)\n",
        "  ...\n",
        "  return\n",
        "```\n",
        "\n",
        "Esta técnica puede simplificar algunas tareas, pero a la vez ser peligrosa. El riesgo de que una función se llame a sí misma es que este proceso ocurra indefinidamente, si la función \"externa\" llama a la función \"interna\", y la función \"interna\" vuelve a llamarse a sí misma, y esta vuelve a llamarse a sí misma, etc, esto se puede repetir infinitamente sin frenos. Se puede pensar como unas muñecas rusas infinitas en las que cada una contiene a otra y nunca frena.\n",
        "\n",
        "Es por esto que **antes** del llamado a sí misma debemos programar una condición de corte, que eventualmente detenga el proceso de recursión y cada función alcance su instrucción **return** y termine.\n",
        "\n",
        "Veamos un ejemplo clásico: Crear una función que calcule el factorial de un número. El factorial de un número $n$ es el producto de todos los números entre $1$ y $n$. Se suele denotar con un signo de exclamación, de la siguiente forma: $n! = 1\\cdot 2\\cdot 3 \\cdot\\ ...\\ \\cdot n$.\n",
        "\n",
        "Solución **sin** recursión:"
      ]
    },
    {
      "cell_type": "code",
      "metadata": {
        "colab": {
          "base_uri": "https://localhost:8080/"
        },
        "id": "jF6K59ZZGMzf",
        "outputId": "5fa4f4ec-f8ad-45bc-8662-c02d4f1fc275"
      },
      "source": [
        "def f(n):\n",
        "  resultado = 1\n",
        "  for x in range(1, n+1):\n",
        "    resultado *= x\n",
        "  return resultado\n",
        "\n",
        "print( f(5) )"
      ],
      "execution_count": null,
      "outputs": [
        {
          "output_type": "stream",
          "text": [
            "120\n"
          ],
          "name": "stdout"
        }
      ]
    },
    {
      "cell_type": "code",
      "metadata": {
        "id": "xtX8wNgctT2t"
      },
      "source": [
        "def fact(x):\n",
        "  v_aux = 1\n",
        "  while (x>0):\n",
        "    v_aux = x * v_aux \n",
        "    x = x - 1\n",
        "    print(v_aux)\n",
        "  return v_aux "
      ],
      "execution_count": null,
      "outputs": []
    },
    {
      "cell_type": "code",
      "metadata": {
        "colab": {
          "base_uri": "https://localhost:8080/"
        },
        "id": "H0_cfbTHu_Nb",
        "outputId": "8d49b90c-b11c-45a9-98b8-033266d73d66"
      },
      "source": [
        "rr = fact(5)\n",
        "print(rr)"
      ],
      "execution_count": null,
      "outputs": [
        {
          "output_type": "stream",
          "text": [
            "5\n",
            "20\n",
            "60\n",
            "120\n",
            "120\n",
            "120\n"
          ],
          "name": "stdout"
        }
      ]
    },
    {
      "cell_type": "code",
      "metadata": {
        "id": "hTOGxed1veI9"
      },
      "source": [
        "def factr(x):\n",
        "  r = 1\n",
        "  if x == 1:\n",
        "    return r\n",
        "  else:\n",
        "    return  x * factr(x-1)\n"
      ],
      "execution_count": null,
      "outputs": []
    },
    {
      "cell_type": "code",
      "metadata": {
        "colab": {
          "base_uri": "https://localhost:8080/"
        },
        "id": "Mnevv8TgwEdn",
        "outputId": "5137a04a-61a3-4b73-9d9d-998757d2dd0a"
      },
      "source": [
        "rrr = factr(5)\n",
        "print(rrr)"
      ],
      "execution_count": null,
      "outputs": [
        {
          "output_type": "stream",
          "text": [
            "120\n"
          ],
          "name": "stdout"
        }
      ]
    },
    {
      "cell_type": "markdown",
      "metadata": {
        "id": "LfEJnUWOGeUb"
      },
      "source": [
        "Para resolver el problema aplicando recursión podemos observar que el factorial de $n$ se puede obtener a partir del factorial de $n-1$:\n",
        "\n",
        "$n! = n\\cdot (n-1)!$\n",
        "\n",
        "Además si $n$ es menor o igual a 2, entonces $n!=n$\n",
        "\n",
        "Aplicando esta reducción del problema, y la condición de corte, podemos llegar a la siguiente implementación:"
      ]
    },
    {
      "cell_type": "code",
      "metadata": {
        "colab": {
          "base_uri": "https://localhost:8080/"
        },
        "id": "Df40I-GvHpDB",
        "outputId": "1b0ca7de-c02e-4176-a6f5-a8d2563ae3b9"
      },
      "source": [
        "def f(n):\n",
        "  if n <= 2:\n",
        "    return n\n",
        "  else:\n",
        "    return n * f( n-1 )"
      ],
      "execution_count": null,
      "outputs": [
        {
          "output_type": "stream",
          "text": [
            "3628800\n"
          ],
          "name": "stdout"
        }
      ]
    },
    {
      "cell_type": "markdown",
      "metadata": {
        "id": "VpEKI4wWH1le"
      },
      "source": [
        "En este ejemplo simple, no parece que usar recursión aporte mucho, pero la técnica es muy útil en problemas más complejos como algoritmos de ordenamiento, de búsqueda, entre otros."
      ]
    },
    {
      "cell_type": "markdown",
      "metadata": {
        "id": "-D91D6uJqZcy"
      },
      "source": [
        "# Desafío final\n",
        "Este desafío debe ser corregido automáticamente a través de [nuestro foro](https://ieeeitba.web.app/python), pueden realizar todos los intentos que deseen. En la página principal pueden ver un tutorial acerca de cómo se utiliza el corrector.\n",
        "\n",
        "Les recomendamos primero probar su solución en Colab para luego realizar la corrección."
      ]
    },
    {
      "cell_type": "markdown",
      "metadata": {
        "id": "Rvlf1T7MNTjo"
      },
      "source": [
        "### La conjetura del Dr. Lothar\n",
        "Escriba un programa que reciba un numero del usuario y repita el siguiente proceso usando un **while**:\n",
        "\n",
        "\n",
        "*   Si el numero es par, se debe dividir por $2$.\n",
        "*   Si el numero es impar, se debe multiplicar por $3$ y sumar $1$.\n",
        "\n",
        "Este proceso se repite hasta llegar al numero $1$ y luego muestra en pantalla la cantidad de pasos que tardó en llegar.\n",
        "\n",
        "\n",
        "\n",
        "**Ejemplos:**\n",
        "\n",
        "- *Input:* `6`\n",
        "\n",
        "  *Output:* `8` (Los pasos a seguir son: 6, 3, 10, 5, 16, 8, 4, 2, 1)\n",
        "\n",
        "- *Input:* `13`\n",
        "\n",
        "  *Output:* `9` (Los pasos a seguir son: 13, 40, 20, 10, 5, 16, 8, 4, 2, 1)"
      ]
    },
    {
      "cell_type": "code",
      "metadata": {
        "colab": {
          "base_uri": "https://localhost:8080/"
        },
        "id": "Pghvp92kNUwq",
        "outputId": "67795a7c-9e48-48dc-a43a-4debf2be5f66"
      },
      "source": [
        "# Hay que arreglar la repetición de impresión al finalizar el programa\r\n",
        "\r\n",
        "def es_par(numero):\r\n",
        "\tif numero == 0:\r\n",
        "\t\treturn 0\r\n",
        "\tif numero % 2==0:\r\n",
        "\t\treturn True\r\n",
        "\telse:\r\n",
        "\t\treturn False\r\n",
        "\r\n",
        "\r\n",
        "def dr_lothar(recibe_un_numero_par_o_impar, contador_de_steps):\r\n",
        "\t\r\n",
        "\tif es_par(recibe_un_numero_par_o_impar) and recibe_un_numero_par_o_impar >= 2:\r\n",
        "\t\trecibe_un_numero_par_o_impar = recibe_un_numero_par_o_impar / 2\r\n",
        "\t\tcontador_de_steps += 1\r\n",
        "\t\tdr_lothar(recibe_un_numero_par_o_impar, contador_de_steps)\r\n",
        "\t\t\r\n",
        "\t\t\r\n",
        "\tif not es_par(recibe_un_numero_par_o_impar) and recibe_un_numero_par_o_impar >= 3:\r\n",
        "\t\trecibe_un_numero_par_o_impar = (recibe_un_numero_par_o_impar * 3) + 1\r\n",
        "\t\tcontador_de_steps += 1\r\n",
        "\t\tdr_lothar(recibe_un_numero_par_o_impar, contador_de_steps)\r\n",
        "\t\t\r\n",
        "\t\r\n",
        "\tif recibe_un_numero_par_o_impar == 1 and contador_de_steps > 0:\r\n",
        "\t\tprint('El Dr. Lothar realizó: ', contador_de_steps, ' pasos.')\r\n",
        "\t\treturn\r\n",
        "\t\r\n",
        "\tif recibe_un_numero_par_o_impar == 1 and contador_de_steps == 0:\r\n",
        "\t\tprint('El Dr. Lothar dice que si el número es 1 entonces no necesita realizar ningún procedimiento.')\r\n",
        "\t\treturn\r\n",
        "\t\r\n",
        "\tif recibe_un_numero_par_o_impar == 0:\r\n",
        "\t\tprint('Dr. Lothar: El número que ingresó es inválido! \\n' \\\r\n",
        "\t\t\t   'Nelson: Pero \"Doc\", el cero es un número par https://es.wikipedia.org/wiki/Paridad_del_cero#:~:text=El%200%20es%20par.,%2C%200%20%3D%200%20%C3%97%202.\\n' \\\r\n",
        "\t\t\t   'Dr. Lothar: ¡Dije que es inválido y punto!')\r\n",
        "\t\treturn\r\n",
        "\t\r\n",
        "contador = 0\r\n",
        "numero = int(input('Ingrese un número > 1 ... : '))\r\n",
        "print(dr_lothar(numero, contador))\r\n",
        "\r\n",
        "  "
      ],
      "execution_count": null,
      "outputs": [
        {
          "output_type": "stream",
          "text": [
            "Ingrese un número > 1 ... : 6\n",
            "El Dr. Lothar realizó:  8  pasos.\n",
            "El Dr. Lothar realizó:  8  pasos.\n",
            "El Dr. Lothar realizó:  8  pasos.\n",
            "El Dr. Lothar realizó:  8  pasos.\n",
            "El Dr. Lothar realizó:  8  pasos.\n",
            "El Dr. Lothar realizó:  8  pasos.\n",
            "El Dr. Lothar realizó:  8  pasos.\n",
            "El Dr. Lothar realizó:  8  pasos.\n",
            "None\n"
          ],
          "name": "stdout"
        }
      ]
    },
    {
      "cell_type": "markdown",
      "metadata": {
        "id": "1PKYlsQhQ73q"
      },
      "source": [
        "**Para un desafío mayor:** Resolver el problema aplicando funciones con recursión.\n",
        "\n",
        "**Dato extra:**\n",
        "* En 1937, Lothar Collatz [conjeturó](https://es.wikipedia.org/wiki/Conjetura_de_Collatz#Enunciado) que este proceso llega a 1 sin importar el número en el cual se empieza, pero hasta el día de hoy no se pudo demostrar su conjetura. Ya se comprobó usando programas de computadora que esto es verdad para todos los numeros menores que $2^{58}$"
      ]
    },
    {
      "cell_type": "markdown",
      "metadata": {
        "id": "13AcDcKZWX0b"
      },
      "source": [
        "# Ejercitación integradora $\\newcommand{\\dif}{\\bigstar}$$\\newcommand{\\facil}{\\color{\\green}{\\dif}}$ $\\newcommand{\\pieceofcake}{\\color{\\cyan}{\\dif}}$$\\newcommand{\\medio}{\\color{\\yellow}{\\dif\\dif}}$$\\newcommand{\\media}{\\medio}$$\\newcommand{\\normal}{\\medio}$  $\\newcommand{\\dificil}{\\color{\\orange}{\\dif\\dif\\dif}}$ $\\newcommand{\\imposible}{\\color{\\red}{\\dif\\dif\\dif\\dif}}$\n",
        "$\\newcommand{\\tarc}{\\large\\frown}$\n",
        "$\\newcommand{\\arc}[1]{\\stackrel{\\tarc}{#1}}$\n",
        "<head>\n",
        "<style type=\"text/css\">\n",
        "  .img{ \n",
        "    display: block;\n",
        "    margin-left:auto;\n",
        "    margin-right:auto;\n",
        "  }\n",
        "  </style>\n",
        "  </head>"
      ]
    },
    {
      "cell_type": "markdown",
      "metadata": {
        "id": "ZJ8oR4DW3z4A"
      },
      "source": [
        "###$\\facil$   Cálculo de promedio \n",
        "Cálcular la nota de un alumno es una tarea cotidiana de un profesor. Esta tarea suele realizarse a mano o en excel muchas veces. En esta ocasión la haremos en python. \n",
        "- Escribir una función que calcule el promedio de 3 notas y entrege ese valor usando **return**.\n",
        "- Reescribir la función anterior modificandola para asignar una importancia al primer examen de 20%, al segundo de 50% y al tercero de 30%.\n",
        "- Llamar a cada función anterior 3 veces con distintas notas y verificar, mediante la instrucción **if**, si el alumno aprobó en cada caso (suponga que 4 es la nota de aprobación).\n",
        "\n"
      ]
    },
    {
      "cell_type": "code",
      "metadata": {
        "colab": {
          "base_uri": "https://localhost:8080/"
        },
        "id": "3DHirONd90wp",
        "outputId": "49051438-8c61-4a69-81b9-1293d2231533"
      },
      "source": [
        "def calculo_promedio_1(nota1, nota2, nota3):\r\n",
        "  return (nota1 + nota2 + nota3)/3\r\n",
        "\r\n",
        "primera_nota = int(input('Ingresa la nota del primer examen: '))\r\n",
        "segunda_nota = int(input('Ingresa la nota del segundo examen: '))\r\n",
        "tercera_nota = int(input('Ingresa la nota del tercer examen: '))\r\n",
        "\r\n",
        "print(calculo_promedio_1(primera_nota,segunda_nota,tercera_nota))\r\n",
        "\r\n",
        "#el punto dos no entiendo a que se refiere asignarle porcentajes de importancia\r\n",
        "\r\n"
      ],
      "execution_count": null,
      "outputs": [
        {
          "output_type": "stream",
          "text": [
            "Ingresa la nota del primer examen: 8\n",
            "Ingresa la nota del segundo examen: 9\n",
            "Ingresa la nota del tercer examen: 10\n",
            "9.0\n"
          ],
          "name": "stdout"
        }
      ]
    },
    {
      "cell_type": "markdown",
      "metadata": {
        "id": "3j1ROqeFJdP-"
      },
      "source": [
        "###$\\facil$ Una buena e-stimación\n",
        "El número $e$ tiene inmensa utilidad para el análisis y la estadística, es una de las super-estrellas de la matemática, y su utilidad radica en que la función $e^x$  es igual a su derivada, por definición de $e$.\n",
        "\n",
        "Gracias a las series de Taylor podemos obtener la siguiente definición del número $e$:\n",
        "\n",
        "$e=1+\\frac{1}{1!}+\\frac{1}{2!}+\\frac{1}{3!}+\\frac{1}{4!}+\\frac{1}{5!}+...$\n",
        "\n",
        "Se pide obtener una aproximación del número $e$ calculando la suma de los primeros $20$ términos de esta sucesión infinita.\n",
        "\n",
        "**Tips**\n",
        "* $n! = 1\\cdot 2\\cdot 3 \\cdot\\ ...\\ \\cdot n$."
      ]
    },
    {
      "cell_type": "code",
      "metadata": {
        "colab": {
          "base_uri": "https://localhost:8080/"
        },
        "id": "TESQQaFiLiz8",
        "outputId": "46e1cc84-f68f-4d84-d675-9f26d60045bb"
      },
      "source": [
        "def factorial(x):\r\n",
        "\tif x <= 2:\r\n",
        "\t\treturn x\r\n",
        "\telse:\r\n",
        "\t\treturn x * factorial(x-1)\r\n",
        "\r\n",
        "\r\n",
        "def euler():\r\n",
        "\tnum_euler = 1\r\n",
        "\tfor x in range(1, 20):\r\n",
        "\t\tnum_euler += (1/factorial(x))\r\n",
        "\treturn num_euler\r\n",
        "\r\n",
        "print(euler())\r\n"
      ],
      "execution_count": null,
      "outputs": [
        {
          "output_type": "stream",
          "text": [
            "2.7182818284590455\n"
          ],
          "name": "stdout"
        }
      ]
    },
    {
      "cell_type": "markdown",
      "metadata": {
        "id": "tS0MU0yrKfAs"
      },
      "source": [
        "###$\\medio$ Ejercicio de entrevista en [Ingemática](https://www.ingematica.net/) \n",
        "Escriba un programa que imprima los números del 1 al 100, pero que para cada número que sea múltiplo de 3 imprima  `N3`, para los múltiplos de 5 imprima `N5`, y para los múltiplos de los dos, `N3N5`.\n",
        "\n",
        "**Tips**\n",
        "* ¡Si el número es divisible por 3 entonces el resto de la división vale cero!\n",
        "```\n",
        "numero % 3 == 0\n",
        ">> True\n",
        "```\n"
      ]
    },
    {
      "cell_type": "code",
      "metadata": {
        "colab": {
          "base_uri": "https://localhost:8080/"
        },
        "id": "IUtY_MurVkMl",
        "outputId": "afa1b5ca-2432-41f8-8add-a065960a9c8a"
      },
      "source": [
        "def ingematica():\r\n",
        "\tfor x in range(1, 101):\r\n",
        "\t\tif x % 3 == 0 and not x % 5 == 0:\r\n",
        "\t\t\tprint('N3', end=' ')\r\n",
        "\t\tif not x % 3 == 0 and x % 5 == 0:\r\n",
        "\t\t\tprint('N5', end=' ')\r\n",
        "\t\tif x % 3 == 0 and x % 5 == 0:\r\n",
        "\t\t\tprint('N3N5', end=' ')\r\n",
        "\t\tif not x % 3==0 and not x % 5==0:\r\n",
        "\t\t\tprint(x, end=' ')\r\n",
        "\r\n",
        "print(ingematica())"
      ],
      "execution_count": null,
      "outputs": [
        {
          "output_type": "stream",
          "text": [
            "1 2 N3 4 N5 N3 7 8 N3 N5 11 N3 13 14 N3N5 16 17 N3 19 N5 N3 22 23 N3 N5 26 N3 28 29 N3N5 31 32 N3 34 N5 N3 37 38 N3 N5 41 N3 43 44 N3N5 46 47 N3 49 N5 N3 52 53 N3 N5 56 N3 58 59 N3N5 61 62 N3 64 N5 N3 67 68 N3 N5 71 N3 73 74 N3N5 76 77 N3 79 N5 N3 82 83 N3 N5 86 N3 88 89 N3N5 91 92 N3 94 N5 N3 97 98 N3 N5 None\n"
          ],
          "name": "stdout"
        }
      ]
    },
    {
      "cell_type": "markdown",
      "metadata": {
        "id": "0Af6_xLhRVrE"
      },
      "source": [
        "###$\\medio$   Test de primalidad \n",
        "Escribir una función que recibe un numero y devuelve *True* si el numero es primo y *False* en caso contrario.\n",
        "\n",
        "Mediante un *for* verificar la *primalidad* de los numeros del $1$ al $20$.\n",
        "\n",
        "**Tips**\n",
        "\n",
        "* Un número $N$ es primo cuando tiene exactamente $2$ divisores ($1$ y $N$). Sin embargo alcanza con verificar que no es múltiplo de ningún número entre $2$ y $\\sqrt{N}$ (recordar que $\\sqrt{N}=N^{0.5}$)\n",
        "* El numero 1 **no** es primo."
      ]
    },
    {
      "cell_type": "code",
      "metadata": {
        "colab": {
          "base_uri": "https://localhost:8080/"
        },
        "id": "G4t3MumbR1ew",
        "outputId": "20adaa08-76c0-4780-b57b-98ca6f84f8ec"
      },
      "source": [
        "def factorial(x):\r\n",
        "\tif x <= 2:\r\n",
        "\t\treturn x\r\n",
        "\telse:\r\n",
        "\t\treturn x * factorial(x - 1)\r\n",
        "\r\n",
        "\r\n",
        "def num_primo():\r\n",
        "\tfor x in range(1, 21):\r\n",
        "\t\t#Teorema de Wilson (n-1)!+1 = multiplo de n\r\n",
        "\t\tif x != 1 and (factorial(x - 1) + 1) % x == 0:\r\n",
        "\t\t\tprint(x, ' es número primo')\r\n",
        "\t\telse:\r\n",
        "\t\t\tprint(x, ' no es un número primo')\r\n",
        "\r\n",
        "print(num_primo())"
      ],
      "execution_count": null,
      "outputs": [
        {
          "output_type": "stream",
          "text": [
            "1  no es un número primo\n",
            "2  es número primo\n",
            "3  es número primo\n",
            "4  no es un número primo\n",
            "5  es número primo\n",
            "6  no es un número primo\n",
            "7  es número primo\n",
            "8  no es un número primo\n",
            "9  no es un número primo\n",
            "10  no es un número primo\n",
            "11  es número primo\n",
            "12  no es un número primo\n",
            "13  es número primo\n",
            "14  no es un número primo\n",
            "15  no es un número primo\n",
            "16  no es un número primo\n",
            "17  es número primo\n",
            "18  no es un número primo\n",
            "19  es número primo\n",
            "20  no es un número primo\n",
            "None\n"
          ],
          "name": "stdout"
        }
      ]
    },
    {
      "cell_type": "markdown",
      "metadata": {
        "id": "fm_1Ogs_k0Uu"
      },
      "source": [
        "### $\\normal$ La leyenda de Filius Bonacci  \n",
        "\n",
        "<img class=\"img\" src=\"https://upload.wikimedia.org/wikipedia/commons/9/93/Fibonacci_spiral_34.svg\" height=\"200\" alt = \"Espiral Fibonacci\" title = \"\">\n",
        "\n",
        "Imprima $n$ números de la [sucesion de Fibonacci](https://es.wikipedia.org/wiki/Sucesi%C3%B3n_de_Fibonacci)\n",
        "\n",
        "\n",
        "```\n",
        "0, 1, 1, 2, 3, 5, 8, 13, 21 ...\n",
        "```"
      ]
    },
    {
      "cell_type": "code",
      "metadata": {
        "colab": {
          "base_uri": "https://localhost:8080/"
        },
        "id": "Am1NHiy6xeMp",
        "outputId": "3f06fc9c-1766-4262-8cf0-fc237991263e"
      },
      "source": [
        "def fibonacci(n):\r\n",
        "\tx = 0\r\n",
        "\ty = 1\r\n",
        "\t#auxiliar = 0\r\n",
        "\tprint(x, end=', ')\r\n",
        "\tprint(y, end=', ')\r\n",
        "\t\r\n",
        "\tfor z in range (1, n-1):\r\n",
        "\t\tauxiliar = x + y\r\n",
        "\t\tprint(auxiliar, end=', ')\r\n",
        "\t\tx = y\r\n",
        "\t\ty = auxiliar\r\n",
        "\r\n",
        "print(fibonacci(20))\r\n",
        "\r\n"
      ],
      "execution_count": null,
      "outputs": [
        {
          "output_type": "stream",
          "text": [
            "0, 1, 1, 2, 3, 5, 8, 13, 21, 34, 55, 89, 144, 233, 377, 610, 987, 1597, 2584, 4181, None\n"
          ],
          "name": "stdout"
        }
      ]
    },
    {
      "cell_type": "markdown",
      "metadata": {
        "id": "_QLEV2dP64fo"
      },
      "source": [
        "###$\\medio$  Dominó  \n",
        "\n",
        "El [Dominó](https://es.wikipedia.org/wiki/Domin%C3%B3) es un juego de mesa muy popular. \n",
        "En este ejercicio no vamos a programar un juego de Domino, pero sí contar sus fichas.\n",
        "<center>\n",
        "<img src=\"https://es.calcuworld.com/wp-content/uploads/sites/2/2018/04/cantidad-de-fichas-domino.jpg\" height=\"200\" alt = \"Fichas domino desparramadas sobre una mesa\">\n",
        "</center>\n",
        "\n",
        "A pesar de que el domino tradicional se juega con fichas hasta el número 6, vamos a considerar un juego de fichas de valor máximo $n$.\n",
        "\n",
        "- Escribir una función que calcule la cantidad de fichas para un juego de dominó completo con fichas que contienen hasta el número $n$.\n",
        "Nota: ¡No hay fichas repetidas! 2-4 es la misma ficha que 4-2. ¡Observar que en el dominó hay fichas con valor 0!\n",
        "\n",
        "```\n",
        "   cantidadFichas(3)\n",
        "   >>> 10\n",
        "   cantidadFichas(4)\n",
        "   >>> 15\n",
        "```\n",
        "\n",
        "- Escribir una función que muestre todas las fichas para un juego de dominó como el anterior, en cualquier orden.\n",
        "\n",
        "```\n",
        "   mostrarFichas(3)\n",
        "   >>> 0-0\n",
        "   >>> 0-1\n",
        "   >>> 0-2\n",
        "   >>> 0-3\n",
        "   >>> 1-1\n",
        "   >>> 1-2\n",
        "   >>> 1-3\n",
        "   >>> 2-2\n",
        "   >>> 2-3\n",
        "   >>> 3-3\n",
        "```\n",
        "\n",
        "- Llamar a las funciones anteriores con distintos valores para corroborar su funcionamiento\n",
        "\n",
        "- $\\dificil$ *Challenge*: Escribir una función que, dada una cantidad de fichas, calcule cuál es el $n$ (valor máximo) de las fichas. Si el número de fichas no corresponde a la cantidad de fichas de ningún juego de dominó completo retornar -1.\n",
        "\n",
        "```\n",
        "   valorMaximo(10)\n",
        "   >>> 3\n",
        "   valorMaximo(11)\n",
        "   >>> -1\n",
        "   valorMaximo(15)\n",
        "   >>> 4\n",
        "```\n"
      ]
    },
    {
      "cell_type": "code",
      "metadata": {
        "id": "Q5MAhD1Jb1rN"
      },
      "source": [
        ""
      ],
      "execution_count": null,
      "outputs": []
    },
    {
      "cell_type": "markdown",
      "metadata": {
        "id": "kp4VOBzNMbPa"
      },
      "source": [
        "###$\\dificil$ El ejercicio más integrador\n",
        "\n",
        "Se pide calcular una integral definida en un intervalo de una función genérica.\n",
        "\n",
        "En lugar de obtener un resultado exacto, realizaremos una aproximación del resultado aplicando la integral de Riemann. Para lograr esto vamos a aproximar una función mediante muchos rectángulos muy angostos. Para obtener el resultado de la integral vamos a sumar el área de todos estos rectángulos entre cierto intervalo $[a, b]$:\n",
        "\n",
        "![Riemann1](https://upload.wikimedia.org/wikipedia/commons/a/af/Riemann_Integration_4.png)\n",
        "\n",
        "Primero debemos elegir un número $\\Delta x$ cuyo valor sea muy pequeño, y que determina el ancho de los rectángulos. Comenzando del límite de integración inferior $a$ obtendremos el primer área como $f(a)\\cdot \\Delta x$, luego el siguiente área será $f(a+\\Delta x)\\cdot \\Delta x$ , el tercer área es $f(a+2\\cdot\\Delta x)\\cdot \\Delta x$ , y así se sigue mientras no se supere $b$.\n",
        "\n",
        "Al elegir un valor más chico de $\\Delta x$ se obtiene una mejor aproximación:\n",
        "\n",
        "![Riemann2](https://upload.wikimedia.org/wikipedia/commons/3/34/Riemann_Integration_5.png)\n",
        "\n",
        "Se debe programar la función *integral(f, a, b, dx)* en la cual *f* sea la función a integrar (debe recibir como parámetro un número *x*, debe entregar el resultado usando *return*), *a* y *b* sean los límites de integración, y *dx* sea el ancho de los rectángulos.\n"
      ]
    },
    {
      "cell_type": "code",
      "metadata": {
        "id": "wgmupIZwRTHO"
      },
      "source": [
        ""
      ],
      "execution_count": null,
      "outputs": []
    },
    {
      "cell_type": "markdown",
      "metadata": {
        "id": "QkV_WCR4HUA5"
      },
      "source": [
        "###$\\dificil$ Locos por las matemáticas \n",
        "En marzo 2019, Emma Haruka Iwao, una empleada de Google, logró calcular 31,4 trillones de dígitos del famoso número pi en 121 dias usando el poder de la nube de Google. ¡Hoy ustedes pueden hacer lo mismo con la ayuda de Python!\n",
        "\n",
        "Aprovechando el descubrimiento del matemático indio Sriniviasa Ramanujan (1910) podemos emplear nuestro propio aproximador de pi.\n",
        "$$ \\frac{1}{\\pi}= \\frac{2\\sqrt{2}}{9801}\\sum_{k=0}^{\\infty} \\frac{(4k)! \\cdot (1103+26390k)}{(k!)^4 396^{4k}}$$\n",
        "\n",
        "**Tips**:\n",
        "\n",
        "* Pueden utlizar la siguiente función para calcular factoriales:\n",
        "\n",
        "```\n",
        "def factorial(n):\n",
        "  return 1 if n<=1 else n*factorial(n-1)\n",
        "```\n",
        "$$\\textrm{factorial(4)}=4!=24 $$\n",
        "\n",
        "* Esto es un problema abierto. No es posible conseguir una representación decimal exacta de $\\pi$, por lo tanto solo se puede estimar.\n",
        "\n",
        "\n",
        "\n",
        "Si no estamos tan locos por la matemáticas podemos usar otras aproximaciones más simples como:\n",
        "\n",
        "$$\\pi \\approx \\frac{22}{7} \\approx \\frac{355}{113} $$\n",
        "\n",
        "Otros números famosos:\n",
        "$$e = \\sum_{k=0}^\\infty \\frac{1}{k!} \\qquad e=\\lim_{x\\rightarrow\\infty} \\left( 1+\\frac{1}{x} \\right)^x \\qquad \\varphi = \\frac{1+\\sqrt{5}}{2} $$"
      ]
    },
    {
      "cell_type": "code",
      "metadata": {
        "colab": {
          "base_uri": "https://localhost:8080/",
          "height": 35
        },
        "id": "-_v3zGU6cBEX",
        "outputId": "b04adfba-894f-4ce7-d07f-7d301b033c7c"
      },
      "source": [
        "def factorial(v):\n",
        "    ans = 1\n",
        "    for i in range(1,v):\n",
        "        ans *= i\n",
        "    return ans\n",
        "\n",
        "print(factorial(10))\n"
      ],
      "execution_count": null,
      "outputs": [
        {
          "output_type": "stream",
          "text": [
            "362880\n"
          ],
          "name": "stdout"
        }
      ]
    },
    {
      "cell_type": "code",
      "metadata": {
        "id": "Mu1GbWGC-IW9"
      },
      "source": [
        ""
      ],
      "execution_count": null,
      "outputs": []
    }
  ]
}